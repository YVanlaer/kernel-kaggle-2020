{
  "nbformat": 4,
  "nbformat_minor": 0,
  "metadata": {
    "colab": {
      "name": "Kaggle_KMML.ipynb",
      "provenance": [],
      "collapsed_sections": []
    },
    "kernelspec": {
      "name": "python3",
      "display_name": "Python 3"
    }
  },
  "cells": [
    {
      "cell_type": "markdown",
      "metadata": {
        "id": "eH4Rp9ZmL2uG"
      },
      "source": [
        "## Dataset Download\r\n",
        "\r\n",
        "(This notebook has been created with the intent to run it on Google Colab)\r\n",
        "\r\n",
        "In order to download the dataset via kaggle with cmd, you have to be logged in (otherwise you don't have permission).\r\n",
        "\r\n",
        "For that, you have to go to your kaggle account, and generate a token for API use. Then you have to place your kaggle.json file into ~/.kaggle/ folder."
      ]
    },
    {
      "cell_type": "code",
      "metadata": {
        "colab": {
          "base_uri": "https://localhost:8080/"
        },
        "id": "qWblVHCMCC6g",
        "outputId": "716b2078-1173-485c-eb52-326473847a62"
      },
      "source": [
        "!kaggle competitions download -c machine-learning-with-kernel-methods-2021"
      ],
      "execution_count": 4,
      "outputs": [
        {
          "output_type": "stream",
          "text": [
            "Warning: Looks like you're using an outdated API Version, please consider updating (server 1.5.10 / client 1.5.4)\n",
            "Downloading Xte1.csv to /content\n",
            "  0% 0.00/104k [00:00<?, ?B/s]\n",
            "100% 104k/104k [00:00<00:00, 39.6MB/s]\n",
            "Downloading Xtr1.csv to /content\n",
            "  0% 0.00/209k [00:00<?, ?B/s]\n",
            "100% 209k/209k [00:00<00:00, 63.1MB/s]\n",
            "Downloading Xtr0_mat100.csv.zip to /content\n",
            "  0% 0.00/160k [00:00<?, ?B/s]\n",
            "100% 160k/160k [00:00<00:00, 48.1MB/s]\n",
            "Downloading Xte2.csv to /content\n",
            "  0% 0.00/104k [00:00<?, ?B/s]\n",
            "100% 104k/104k [00:00<00:00, 34.2MB/s]\n",
            "Downloading Xte1_mat100.csv.zip to /content\n",
            "  0% 0.00/80.6k [00:00<?, ?B/s]\n",
            "100% 80.6k/80.6k [00:00<00:00, 71.6MB/s]\n",
            "Downloading Xte0_mat100.csv.zip to /content\n",
            "  0% 0.00/80.1k [00:00<?, ?B/s]\n",
            "100% 80.1k/80.1k [00:00<00:00, 62.6MB/s]\n",
            "Downloading Ytr1.csv to /content\n",
            "  0% 0.00/13.7k [00:00<?, ?B/s]\n",
            "100% 13.7k/13.7k [00:00<00:00, 27.4MB/s]\n",
            "Downloading Xtr2.csv to /content\n",
            "  0% 0.00/209k [00:00<?, ?B/s]\n",
            "100% 209k/209k [00:00<00:00, 27.9MB/s]\n",
            "Downloading Xte2_mat100.csv.zip to /content\n",
            "  0% 0.00/80.2k [00:00<?, ?B/s]\n",
            "100% 80.2k/80.2k [00:00<00:00, 76.7MB/s]\n",
            "Downloading Xtr2_mat100.csv.zip to /content\n",
            "  0% 0.00/160k [00:00<?, ?B/s]\n",
            "100% 160k/160k [00:00<00:00, 52.0MB/s]\n",
            "Downloading Xte0.csv to /content\n",
            "  0% 0.00/103k [00:00<?, ?B/s]\n",
            "100% 103k/103k [00:00<00:00, 84.1MB/s]\n",
            "Downloading Ytr0.csv to /content\n",
            "  0% 0.00/12.6k [00:00<?, ?B/s]\n",
            "100% 12.6k/12.6k [00:00<00:00, 10.4MB/s]\n",
            "Downloading Xtr1_mat100.csv.zip to /content\n",
            "  0% 0.00/161k [00:00<?, ?B/s]\n",
            "100% 161k/161k [00:00<00:00, 48.9MB/s]\n",
            "Downloading Xtr0.csv to /content\n",
            "  0% 0.00/208k [00:00<?, ?B/s]\n",
            "100% 208k/208k [00:00<00:00, 61.4MB/s]\n",
            "Downloading Ytr2.csv to /content\n",
            "  0% 0.00/13.7k [00:00<?, ?B/s]\n",
            "100% 13.7k/13.7k [00:00<00:00, 13.3MB/s]\n"
          ],
          "name": "stdout"
        }
      ]
    },
    {
      "cell_type": "code",
      "metadata": {
        "colab": {
          "base_uri": "https://localhost:8080/"
        },
        "id": "vr_XLP24dLJr",
        "outputId": "d3ab5432-0444-4914-dfbb-0b83bec567c9"
      },
      "source": [
        "!unzip Xtr0_mat100.csv.zip"
      ],
      "execution_count": 33,
      "outputs": [
        {
          "output_type": "stream",
          "text": [
            "Archive:  Xtr0_mat100.csv.zip\n",
            "  inflating: Xtr0_mat100.csv         \n"
          ],
          "name": "stdout"
        }
      ]
    },
    {
      "cell_type": "code",
      "metadata": {
        "id": "qDvbp3dXuyXJ"
      },
      "source": [
        "import cvxpy as cp\r\n",
        "import numpy as np\r\n",
        "import pandas as pd"
      ],
      "execution_count": 7,
      "outputs": []
    },
    {
      "cell_type": "markdown",
      "metadata": {
        "id": "n2hbTSouNLgd"
      },
      "source": [
        "This is a simple test using only Xtr0_mat100.csv (there is 3 of them in total)\r\n",
        "\r\n",
        "I split the 2000 entry between 1800 for train and 200 for test."
      ]
    },
    {
      "cell_type": "code",
      "metadata": {
        "id": "8wyKXB1RcMXD"
      },
      "source": [
        "data = pd.read_csv('Xtr0_mat100.csv', header=None)\r\n",
        "test_array = np.array([data[0][k].split() for k in range(len(data[0]))]).astype(float).reshape(-1,100)\r\n",
        "train_data = test_array[:1800,:]\r\n",
        "test_data = test_array[1800:,:]\r\n",
        "labels_data = pd.read_csv('Ytr0.csv', header=None)\r\n",
        "labels = labels_data[1][1:].values.astype(float) * 2 - 1\r\n",
        "train_labels = labels[:1800]\r\n",
        "test_labels = labels[1800:]"
      ],
      "execution_count": 83,
      "outputs": []
    },
    {
      "cell_type": "markdown",
      "metadata": {
        "id": "Copkrb0JNcmt"
      },
      "source": [
        "I use a simple Linear Logic Regression to predict data"
      ]
    },
    {
      "cell_type": "code",
      "metadata": {
        "id": "w6Q1Jn3hqteH"
      },
      "source": [
        "OLS = np.linalg.inv(train_data.T @ train_data + 0.1 * np.eye(train_data.shape[1])) @ train_data.T @ train_labels"
      ],
      "execution_count": 85,
      "outputs": []
    },
    {
      "cell_type": "code",
      "metadata": {
        "colab": {
          "base_uri": "https://localhost:8080/"
        },
        "id": "ZPfp7qgnseUu",
        "outputId": "81ca8fa2-2ff8-4e4e-a17c-f3f0ce825b5d"
      },
      "source": [
        "predict = ((test_data @ OLS) >= 0) * 2 - 1\r\n",
        "predict"
      ],
      "execution_count": 113,
      "outputs": [
        {
          "output_type": "execute_result",
          "data": {
            "text/plain": [
              "array([-1, -1,  1,  1,  1,  1, -1, -1,  1,  1,  1,  1,  1, -1, -1, -1,  1,\n",
              "       -1, -1, -1, -1, -1, -1, -1, -1,  1,  1, -1,  1,  1,  1,  1,  1, -1,\n",
              "       -1,  1, -1, -1,  1,  1, -1,  1,  1, -1, -1,  1,  1, -1,  1, -1, -1,\n",
              "       -1,  1,  1,  1, -1,  1, -1, -1,  1,  1,  1,  1, -1,  1, -1, -1, -1,\n",
              "        1, -1,  1, -1,  1, -1,  1, -1, -1, -1, -1, -1,  1,  1, -1, -1,  1,\n",
              "        1, -1,  1, -1,  1,  1,  1, -1,  1, -1, -1, -1, -1,  1, -1,  1, -1,\n",
              "       -1,  1,  1, -1, -1, -1, -1,  1,  1, -1, -1, -1,  1,  1, -1, -1, -1,\n",
              "        1, -1,  1, -1,  1,  1, -1, -1, -1,  1,  1, -1,  1,  1, -1, -1, -1,\n",
              "       -1, -1,  1,  1, -1,  1, -1,  1, -1,  1,  1,  1,  1,  1, -1, -1,  1,\n",
              "       -1,  1, -1, -1, -1,  1,  1, -1, -1,  1, -1, -1, -1, -1, -1, -1, -1,\n",
              "        1,  1,  1,  1,  1,  1, -1,  1, -1,  1, -1, -1,  1,  1,  1, -1,  1,\n",
              "        1,  1, -1, -1, -1,  1, -1, -1, -1, -1,  1, -1, -1])"
            ]
          },
          "metadata": {
            "tags": []
          },
          "execution_count": 113
        }
      ]
    },
    {
      "cell_type": "code",
      "metadata": {
        "colab": {
          "base_uri": "https://localhost:8080/"
        },
        "id": "om0kwR33tOK4",
        "outputId": "2f3ec652-c21f-4419-ef37-a4863187a0f0"
      },
      "source": [
        "accuracy = (predict != test_labels).sum() / len(test_labels)\r\n",
        "print(\"ACCURACY IS\", accuracy)\r\n",
        "\r\n",
        "print(\"Keep in mind that random prediction gives\", ((np.random.randint(2, size=200) * 2 - 1) != test_labels).sum() / 200, \"...\")"
      ],
      "execution_count": 130,
      "outputs": [
        {
          "output_type": "stream",
          "text": [
            "ACCURACY IS  0.45\n",
            "Keep in mind that random prediction gives 0.48 ...\n"
          ],
          "name": "stdout"
        }
      ]
    },
    {
      "cell_type": "markdown",
      "metadata": {
        "id": "NZQjkCGe_Is6"
      },
      "source": [
        "As you can see results are pretty bad."
      ]
    },
    {
      "cell_type": "markdown",
      "metadata": {
        "id": "aYyixZ-QNsZT"
      },
      "source": [
        "Then let's try Kernel Ridge Regression with Gaussian Kernel\r\n",
        "\r\n",
        "We build the Gram Matrix using scipy."
      ]
    },
    {
      "cell_type": "code",
      "metadata": {
        "id": "5ozLxV-4_ePN"
      },
      "source": [
        "from scipy.spatial import distance"
      ],
      "execution_count": 132,
      "outputs": []
    },
    {
      "cell_type": "code",
      "metadata": {
        "colab": {
          "base_uri": "https://localhost:8080/"
        },
        "id": "FzZLgCsL-kZb",
        "outputId": "b18372b2-0509-4117-f549-78fa99c573d3"
      },
      "source": [
        "K_sigma = 1\r\n",
        "lamb_regularization = 10000\r\n",
        "K_gram = np.exp(-distance.cdist(train_data, train_data) ** 2 / (2 * K_sigma ** 2))\r\n",
        "K_gram.shape"
      ],
      "execution_count": 167,
      "outputs": [
        {
          "output_type": "execute_result",
          "data": {
            "text/plain": [
              "(1800, 1800)"
            ]
          },
          "metadata": {
            "tags": []
          },
          "execution_count": 167
        }
      ]
    },
    {
      "cell_type": "code",
      "metadata": {
        "id": "8sUAqzr8BOOv"
      },
      "source": [
        "alpha = np.linalg.pinv(K_gram + lamb_regularization * np.eye(K_gram.shape[0])) @ train_labels"
      ],
      "execution_count": 168,
      "outputs": []
    },
    {
      "cell_type": "code",
      "metadata": {
        "colab": {
          "base_uri": "https://localhost:8080/"
        },
        "id": "nnW99Pw_DOp6",
        "outputId": "4da045b4-daba-4327-b6e0-048c1cf8da73"
      },
      "source": [
        "K_test = np.exp(-distance.cdist(test_data, train_data) ** 2 / (2 * K_sigma ** 2))\r\n",
        "predict = ((alpha * K_test).sum(axis=1) >= 0) * 2 - 1\r\n",
        "predict"
      ],
      "execution_count": 169,
      "outputs": [
        {
          "output_type": "execute_result",
          "data": {
            "text/plain": [
              "array([-1, -1, -1, -1, -1, -1, -1, -1, -1, -1, -1, -1, -1, -1, -1, -1, -1,\n",
              "       -1, -1, -1, -1, -1, -1, -1, -1, -1, -1, -1, -1, -1, -1, -1, -1, -1,\n",
              "       -1, -1, -1, -1, -1, -1, -1, -1, -1, -1, -1, -1, -1, -1, -1, -1, -1,\n",
              "       -1, -1, -1, -1, -1, -1, -1, -1, -1, -1, -1, -1, -1, -1, -1, -1, -1,\n",
              "       -1, -1, -1, -1, -1, -1, -1, -1, -1, -1, -1, -1, -1, -1, -1, -1, -1,\n",
              "       -1, -1, -1, -1, -1, -1, -1, -1, -1, -1, -1, -1, -1, -1, -1, -1, -1,\n",
              "       -1, -1, -1, -1, -1, -1, -1, -1, -1, -1, -1, -1, -1, -1, -1, -1, -1,\n",
              "       -1, -1, -1, -1, -1, -1, -1, -1, -1, -1, -1, -1, -1, -1, -1, -1, -1,\n",
              "       -1, -1, -1, -1, -1, -1, -1, -1, -1, -1, -1, -1, -1, -1, -1, -1, -1,\n",
              "       -1, -1, -1, -1, -1, -1, -1, -1, -1, -1, -1, -1, -1, -1, -1, -1, -1,\n",
              "       -1, -1, -1, -1, -1, -1, -1, -1, -1, -1, -1, -1, -1, -1, -1, -1, -1,\n",
              "       -1, -1, -1, -1, -1, -1, -1, -1, -1, -1, -1, -1, -1])"
            ]
          },
          "metadata": {
            "tags": []
          },
          "execution_count": 169
        }
      ]
    },
    {
      "cell_type": "code",
      "metadata": {
        "colab": {
          "base_uri": "https://localhost:8080/"
        },
        "id": "lKe8rbe2EPLx",
        "outputId": "ee9c4e31-01a7-4c95-aa93-2a0d83ba73f9"
      },
      "source": [
        "accuracy_gauss = (predict != test_labels).sum() / len(test_labels)\r\n",
        "print(\"ACCURACY IS\", accuracy_gauss)"
      ],
      "execution_count": 170,
      "outputs": [
        {
          "output_type": "stream",
          "text": [
            "ACCURACY IS 0.505\n"
          ],
          "name": "stdout"
        }
      ]
    },
    {
      "cell_type": "markdown",
      "metadata": {
        "id": "j__eNj20N3Us"
      },
      "source": [
        "Results are better but still terrible.\r\n",
        "\r\n",
        "To do: SVM with Gaussian Kernel"
      ]
    },
    {
      "cell_type": "markdown",
      "metadata": {
        "id": "eobtuaZaOAse"
      },
      "source": [
        "Please let me know if you see blatant errors in my code."
      ]
    }
  ]
}